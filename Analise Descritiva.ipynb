{
 "cells": [
  {
   "cell_type": "markdown",
   "id": "632f17f8",
   "metadata": {},
   "source": [
    "### Sobre o conjunto de dados\n",
    "O conjunto de dados oferece informações abrangentes sobre os fatores de saúde que influenciam o desenvolvimento da osteoporose, incluindo detalhes demográficos, escolhas de estilo de vida, histórico médico e indicadores de saúde óssea. O objetivo é facilitar a pesquisa na previsão da osteoporose, permitindo que modelos de aprendizado de máquina identifiquem indivíduos em risco. A análise de fatores como idade, sexo, alterações hormonais e hábitos de vida pode ajudar a melhorar o manejo da osteoporose e as estratégias de prevenção.\n",
    "  \n",
    "https://www.kaggle.com/datasets/amitvkulkarni/lifestyle-factors-influencing-osteoporosis"
   ]
  },
  {
   "cell_type": "markdown",
   "id": "c300d4c5",
   "metadata": {},
   "source": [
    "Id\tAge\tGender\tHormonal Changes\tFamily History\tRace/Ethnicity\tBody Weight\tCalcium Intake\tVitamin D Intake\tPhysical Activity\tSmoking\tAlcohol Consumption\tMedical Conditions\tMedications\tPrior Fractures\tOsteoporosis\n",
    "Legenda do Dataframe\n",
    "- ID: identificador unico\n",
    "- Age (idade): Idade do individuo em anos\n",
    "- Gender(Genero): O genero do individuo. Pode ser \"Masculino\"ou \"Feminino\"\n",
    "- Hormonal Changes(Mudancas Hormonais): Indica se o individuo sofreu alteracoes hormonais, principalmente relacionadas á menopausa\n",
    "- Family History (Historia da Familia): Indica se há histórico familiar de Osteoporose ou fraturas. Pode ser \"Sim\"ou \"Não\"\n",
    "- Race/Ethnicity (Raça/Etnia): A raça ou etnia do individuo. Isso pode incluir categorias como \"caucasiano\", \"afro-americano\",\"asiatico\"etc.\n",
    "- Body Weight (Peso Corporal): O satus do peso corporal do individuo. Isso pode ser \"normal\"ou \"Abaixo do peso\".\n",
    "- Calcium Intake (Ingestão de Calcio): O nivel de ingestão de calcio na dieta do individuo. Isto pode ser \"Baixo\"ou \"Adequado\"\n",
    "- Vitamin D Intake (Ingestão de Vitamina): O nivel de ingestão de vitamina D na Dieta do individuo. Pode ser \"Insuficiente\"ou \"Suficiente\"\n",
    "- Physical Activity(Atividade física): Indica o nivel de atividade fisica do individuo. Pode ser \"Sedentário\"para baixos níveis de atividade ou \"Ativo\"para exercicios\n",
    "- Smoking (Fuma): Se fuma ou Não\n",
    "- Alcohol Consumption (Consome Alcool): Se consome bebida alcoolica ou não\n",
    "- Medical Conditions (Condicao Medica): Se tem alguma doenca\n",
    "- Medications (Medicacao):Se toma alguma medicacao\n",
    "- Prior Fractures (Fraturas Prévias): se Tem Fraturas\n",
    "- Osteoporosis (Osteoporose): Se tem osteoporose ou não \n",
    " "
   ]
  },
  {
   "cell_type": "markdown",
   "id": "9b2ffff8",
   "metadata": {},
   "source": [
    "### O que é a Osteoporose?\n",
    "\n",
    "A osteoporose é uma doença em que ocorre a perda da massa óssea, fazendo com que os ossos fiquem frágeis e porosos, tornando-se consequentemente mais sensíveis e quebradiços"
   ]
  },
  {
   "cell_type": "markdown",
   "id": "b9272687",
   "metadata": {},
   "source": [
    "##############################################################################################################"
   ]
  },
  {
   "cell_type": "code",
   "execution_count": null,
   "id": "fe7c047c",
   "metadata": {},
   "outputs": [],
   "source": [
    "pip install sweetviz"
   ]
  },
  {
   "cell_type": "markdown",
   "id": "ddc3683f",
   "metadata": {},
   "source": [
    "### Limpeza Base de Dados"
   ]
  },
  {
   "cell_type": "code",
   "execution_count": null,
   "id": "42341b87",
   "metadata": {},
   "outputs": [],
   "source": [
    "# Bibliotecas utilizadas\n",
    "\n",
    "# Visualizar dados (DataViz)\n",
    "import matplotlib.pyplot as plt\n",
    "import seaborn as sns\n",
    "import sweetviz as sv\n",
    "\n",
    "\n",
    "\n",
    "#Manipulação de dados\n",
    "import pandas as pd\n",
    "import numpy as np\n",
    "from sklearn.preprocessing import OneHotEncoder\n",
    "\n",
    "# Ignorar avisos\n",
    "import warnings\n",
    "warnings.filterwarnings('ignore')"
   ]
  },
  {
   "cell_type": "code",
   "execution_count": null,
   "id": "074ee1a7",
   "metadata": {},
   "outputs": [],
   "source": [
    "# Ler o arquivo csv em um dataframe\n",
    "df = pd.read_csv('osteoporosis.csv')\n",
    "\n",
    "# Imprimir as 5 primeiras linhas do dataframe\n",
    "df.head()"
   ]
  },
  {
   "cell_type": "code",
   "execution_count": null,
   "id": "67605b60",
   "metadata": {},
   "outputs": [],
   "source": [
    "# Verificar os dados das colunas numericas a fim de verificar se há dados faltante\n",
    "df.describe()"
   ]
  },
  {
   "cell_type": "code",
   "execution_count": null,
   "id": "fa49d68d",
   "metadata": {},
   "outputs": [],
   "source": [
    "# Verificar se há ids duplicados\n",
    "duplicates = df.duplicated(subset='Id', keep=False)\n",
    "\n",
    "# Mostrar as linhas com os ids duplicados\n",
    "df_duplicates = df[duplicates]\n",
    "df_duplicates"
   ]
  },
  {
   "cell_type": "code",
   "execution_count": null,
   "id": "344fb075",
   "metadata": {},
   "outputs": [],
   "source": [
    "# Filtrar o DataFrame para visualizar linhas com id = 107447\n",
    "filtered_df = df[df['Id'] == 107447]\n",
    "\n",
    "# Imprime o DataFrame filtrado\n",
    "filtered_df"
   ]
  },
  {
   "cell_type": "code",
   "execution_count": null,
   "id": "344ad8cb",
   "metadata": {},
   "outputs": [],
   "source": [
    "# Filtrar o Dtaframe verificr as linhas com id = 101592\n",
    "filtered_df = df[df['Id'] == 101592]\n",
    "\n",
    "# mostrar o resultado do filtro\n",
    "filtered_df"
   ]
  },
  {
   "cell_type": "markdown",
   "id": "2e2c2e90",
   "metadata": {},
   "source": [
    "Conforme verificado acima, podemos perceber que há linhas com numeros de Ids iguais porém as demais colunas com informações diferentes uma das outras, sendo assim, não podemos excluir as linhas levando em consideração somente os numeros de Ids iguais."
   ]
  },
  {
   "cell_type": "code",
   "execution_count": null,
   "id": "409dd4de",
   "metadata": {},
   "outputs": [],
   "source": [
    "# Identificando as linhas inteiras duplicadas\n",
    "duplicates = df.duplicated()\n",
    "\n",
    "# Exibindo as linhas inteirasduplicadas\n",
    "duplicates.value_counts()"
   ]
  },
  {
   "cell_type": "markdown",
   "id": "eaef1b60",
   "metadata": {},
   "source": [
    "Conforme podemos confirmar acima, não temos nenhuma linha que esteja duplicada. Sendo assim, não iremos excluir linhas por duplicidade de id."
   ]
  },
  {
   "cell_type": "code",
   "execution_count": null,
   "id": "a8513da7",
   "metadata": {},
   "outputs": [],
   "source": [
    "#Traduzir o nome das colunas para Portugues\n",
    "data = df.rename(columns={'Age': 'Idade', 'Gender': 'Genero', 'Hormonal Changes': 'Mudancas Hormonais', 'Family History': 'Historico Familiar', 'Race/Ethnicity': 'Raça/Etnia', 'Body Weight': 'Peso Corporal', 'Calcium Intake': 'Ingestao de Calcio', 'Vitamin D Intake': 'Ingestao de Vitamina D', 'Physical Activity': 'Atividade Fisica', 'Smoking': 'Fuma', 'Alcohol Consumption': 'Consome Bebida Alcoolica', 'Medical Conditions': 'Condicao Medica', 'Medications': 'Medicacao', 'Prior Fractures': 'Fraturas Previas', 'Osteoporosis':'Osteoporose'})\n",
    "data"
   ]
  },
  {
   "cell_type": "code",
   "execution_count": null,
   "id": "b2ff27c7",
   "metadata": {},
   "outputs": [],
   "source": [
    "# Apagar a coluna ID\n",
    "data = data.drop('Id', axis=1)\n",
    "data"
   ]
  },
  {
   "cell_type": "code",
   "execution_count": null,
   "id": "f3fa1c50",
   "metadata": {},
   "outputs": [],
   "source": [
    "# Informacoes basica do dataframe\n",
    "print(data.info())\n",
    "\n",
    "data\n"
   ]
  },
  {
   "cell_type": "markdown",
   "id": "fe695ede",
   "metadata": {},
   "source": [
    "#### Coluna Idade"
   ]
  },
  {
   "cell_type": "code",
   "execution_count": null,
   "id": "8435c0d8",
   "metadata": {},
   "outputs": [],
   "source": [
    "# Verificar a idade minima e maxima listada no Dataframe\n",
    "idade_minima = data['Idade'].min()\n",
    "print(f\"A idade mínima do Dataset é: {idade_minima}\")\n",
    "\n",
    "idade_maxima = data['Idade'].max()\n",
    "print(f\"A idade máxima do Dataset é: {idade_maxima}\")"
   ]
  },
  {
   "cell_type": "code",
   "execution_count": null,
   "id": "9ff87ae2",
   "metadata": {},
   "outputs": [],
   "source": [
    "# Quantidade de casos no Dataset de idade de 18 ate 29 anos\n",
    "quantidade_casos_18_29 = len(data[(data['Idade'] >= 18) & (data['Idade'] <= 29)])\n",
    "print(f\"A quantidade de casos de 18 anos a 29 anos no Dataset é: {quantidade_casos_18_29}\")\n",
    "\n",
    "print('###################################################################################')\n",
    "\n",
    "# Quantidade de casos no Dataset de idade de 30 ate 39 anos\n",
    "quantidade_casos_30_39 = len(data[(data['Idade'] >= 30) & (data['Idade'] <= 39)])\n",
    "print(f\"A quantidade de casos de 30 anos a 39 anos no Dataset é: {quantidade_casos_30_39}\")\n",
    "\n",
    "print('###################################################################################')\n",
    "\n",
    "# Quantidade de casos no Dataset de idade de 40 ate 49 anos\n",
    "quantidade_casos_40_49 = len(data[(data['Idade'] >= 40) & (data['Idade'] <= 49)])\n",
    "print(f\"A quantidade de casos de 40 anos a 49 anos no Dataset é: {quantidade_casos_40_49}\")\n",
    "\n",
    "print('###################################################################################')\n",
    "\n",
    "# Quantidade de casos no Dataset de idade de 50 ate 59 anos\n",
    "quantidade_casos_50_59 = len(data[(data['Idade'] >= 50) & (data['Idade'] <= 59)])\n",
    "print(f\"A quantidade de casos de 50 anos a 59 anos no Dataset é: {quantidade_casos_50_59}\")\n",
    "\n",
    "print('###################################################################################')\n",
    "\n",
    "# Quantidade de casos no Dataset de idade de 60 ate 69 anos\n",
    "quantidade_casos_60_69 = len(data[(data['Idade'] >= 60) & (data['Idade'] <= 69)])\n",
    "print(f\"A quantidade de casos de 60 anos a 69 anos no Dataset é: {quantidade_casos_60_69}\")\n",
    "\n",
    "print('###################################################################################')\n",
    "\n",
    "# Quantidade de casos no Dataset de idade de 70 ate 79 anos\n",
    "quantidade_casos_70_79 = len(data[(data['Idade'] >= 70) & (data['Idade'] <= 79)])\n",
    "print(f\"A quantidade de casos de 70 anos a 79 anos no Dataset é: {quantidade_casos_70_79}\")\n",
    "\n",
    "print('###################################################################################')\n",
    "\n",
    "# Quantidade de casos no Dataset de idade de 80 ate 90 anos\n",
    "quantidade_casos_80_90 = len(data[(data['Idade'] >= 80) & (data['Idade'] <= 90)])\n",
    "print(f\"A quantidade de casos de 80 anos a 90 anos no Dataset é: {quantidade_casos_80_90}\")"
   ]
  },
  {
   "cell_type": "code",
   "execution_count": null,
   "id": "ad223354",
   "metadata": {},
   "outputs": [],
   "source": [
    "\n",
    "# Quantidade de casos no Dataset de idade de 18 ate 29 anos que tem Osteoporose\n",
    "quantidade_casos_18_29 = len(data[(data['Idade'] >= 18) & (data['Idade'] <= 29) & (data['Osteoporose'] == 1)])\n",
    "print(f\"A quantidade de casos que tem Osteoporose de 18 anos a 29 anos no Dataset é: {quantidade_casos_18_29}\")\n",
    "\n",
    "print('###################################################################################')\n",
    "\n",
    "# Quantidade de casos no Dataset de idade de 30 ate 39 anos que tem Osteoporose\n",
    "quantidade_casos_30_39 = len(data[(data['Idade'] >= 30) & (data['Idade'] <= 39) & (data['Osteoporose'] == 1)])\n",
    "print(f\"A quantidade de casos que tem Osteoporose de 30 anos a 39 anos no Dataset é: {quantidade_casos_30_39}\")\n",
    "\n",
    "print('###################################################################################')\n",
    "\n",
    "# Quantidade de casos no Dataset de idade de 40 ate 49 anos que tem Osteoporose\n",
    "quantidade_casos_40_49 = len(data[(data['Idade'] >= 40) & (data['Idade'] <= 49) & (data['Osteoporose'] == 1)])\n",
    "print(f\"A quantidade de casos que tem Osteoporose de 40 anos a 49 anos no Dataset é: {quantidade_casos_40_49}\")\n",
    "\n",
    "print('###################################################################################')\n",
    "\n",
    "# Quantidade de casos no Dataset de idade de 50 ate 59 anos que tem Osteoporose\n",
    "quantidade_casos_50_59 = len(data[(data['Idade'] >= 50) & (data['Idade'] <= 59) & (data['Osteoporose'] == 1)])\n",
    "print(f\"A quantidade de casos que tem Osteoporose de 50 anos a 59 anos no Dataset é: {quantidade_casos_50_59}\")\n",
    "\n",
    "print('###################################################################################')\n",
    "\n",
    "# Quantidade de casos no Dataset de idade de 60 ate 69 anos que tem Osteoporose\n",
    "quantidade_casos_60_69 = len(data[(data['Idade'] >= 60) & (data['Idade'] <= 69) & (data['Osteoporose'] == 1)])\n",
    "print(f\"A quantidade de casos que tem Osteoporose de 60 anos a 69 anos no Dataset é: {quantidade_casos_60_69}\")\n",
    "\n",
    "print('###################################################################################')\n",
    "\n",
    "# Quantidade de casos no Dataset de idade de 70 ate 79 anos que tem Osteoporose\n",
    "quantidade_casos_70_79 = len(data[(data['Idade'] >= 70) & (data['Idade'] <= 79) & (data['Osteoporose'] == 1)])\n",
    "print(f\"A quantidade de casos que tem Osteoporose de 70 anos a 79 anos no Dataset é: {quantidade_casos_70_79}\")\n",
    "\n",
    "print('###################################################################################')\n",
    "\n",
    "# Quantidade de casos no Dataset de idade de 80 ate 90 anos que tem Osteoporose\n",
    "quantidade_casos_80_90 = len(data[(data['Idade'] >= 80) & (data['Idade'] <= 90) & (data['Osteoporose'] == 1)])\n",
    "print(f\"A quantidade de casos que tem Osteoporose de 80 anos a 90 anos no Dataset é: {quantidade_casos_80_90}\")"
   ]
  },
  {
   "cell_type": "markdown",
   "id": "ffe55e89",
   "metadata": {},
   "source": [
    "No Dataset temos:\n",
    "- 951 casos no dataset de pessoas entre 18 a 29 anos e desses 951 casos, 157 deles foram diagnosticados com Osteoporose, significando assim que 16,51% são pessoas com Osteoporose na idade entre 18 a 29 anos;\n",
    "- 314 casos no dataset de pessoas entre 30 a 39 anos e desses 314 casos, 129 deles foram diagnosticados com Osteoporose, significando que 41,08% são pessoas com Osteoporose na idade entre 30 a 39 anos;\n",
    "- 138 casos no dataset de pessoas entre 40 a 49 anos e desses 138 casos todos foram diagnosticado com Osteoporose.\n",
    "- 140 casos no dataset de pessoas entre 50 a 59 anos e desses 140 casos todos foram diagnosticados com Osteoporose.\n",
    "- 135 casos no dataset de pessoas entre 60 a 69 anos e desses 135 casos todos foram diagnosticados com Osteoporose.\n",
    "- 146 casos no dataset de pessoas entre 70 a 79 anos e desses 146 casos todos foram diagnosticados com Osteoporose.\n",
    "- 134 casos no dataset de pessoas entre 80 a 90 anos e desses 134 casos todos foram diagnosticados com Osteoporose."
   ]
  },
  {
   "cell_type": "code",
   "execution_count": null,
   "id": "f8403db1",
   "metadata": {},
   "outputs": [],
   "source": [
    "# contar o número de ocorrências de cada valor único na coluna 'Genero'\n",
    "counts = data['Idade'].value_counts()\n",
    "counts.plot(kind='bar')\n",
    "\n",
    "# visualizar quantidade de cada informacoes na coluna Genero\n",
    "print(counts)\n",
    "\n",
    "# Visualizar Graficamente a quantidade de cada informacao da Cioluna Genero\n",
    "plt.title('Contagem Idade')\n",
    "plt.xlabel('Value')\n",
    "plt.ylabel('Count')\n",
    "plt.show()"
   ]
  },
  {
   "cell_type": "markdown",
   "id": "9b9515db",
   "metadata": {},
   "source": [
    "#### Coluna Genero"
   ]
  },
  {
   "cell_type": "code",
   "execution_count": null,
   "id": "4f730adc",
   "metadata": {},
   "outputs": [],
   "source": [
    "# contar o número de ocorrências de cada valor único na coluna 'Genero'\n",
    "counts = data['Genero'].value_counts()\n",
    "counts.plot(kind='bar')\n",
    "\n",
    "# visualizar quantidade de cada informacoes na coluna Genero\n",
    "print(counts)\n",
    "\n",
    "# Visualizar Graficamente a quantidade de cada informacao da Cioluna Genero\n",
    "plt.title('Contagem Valores Genero')\n",
    "plt.xlabel('Value')\n",
    "plt.ylabel('Count')\n",
    "plt.show()"
   ]
  },
  {
   "cell_type": "code",
   "execution_count": null,
   "id": "6d1a2e61",
   "metadata": {},
   "outputs": [],
   "source": [
    "# Faça o one-hot encoding da coluna categorica \"Genero\"\n",
    "df_one_hot = pd.get_dummies(data, columns=[\"Genero\"])\n",
    "\n",
    "# Exiba o DataFrame atualizado\n",
    "df_one_hot.head()"
   ]
  },
  {
   "cell_type": "code",
   "execution_count": null,
   "id": "298f3297",
   "metadata": {},
   "outputs": [],
   "source": [
    "# Alterar os dados das colunas Genero_Female e Genero_Male de True para 1 e False para 0\n",
    "\n",
    "df_one_hot['Genero_Female'] = df_one_hot['Genero_Female'].map({True: 1, False: 0})\n",
    "df_one_hot['Genero_Male'] = df_one_hot['Genero_Male'].map({True: 1, False: 0})\n",
    "\n",
    "# Verificar\n",
    "df_one_hot"
   ]
  },
  {
   "cell_type": "code",
   "execution_count": null,
   "id": "1124909b",
   "metadata": {},
   "outputs": [],
   "source": [
    "# alterar os dados das colunas Genero_Female e Genero_Male para tipo int\n",
    "df_one_hot['Genero_Female'] = df_one_hot['Genero_Female'].astype(int)\n",
    "df_one_hot['Genero_Male'] = df_one_hot['Genero_Male'].astype(int)\n",
    "\n",
    "#verificar as alteracoes \n",
    "df_one_hot.info()"
   ]
  },
  {
   "cell_type": "markdown",
   "id": "2c5039a5",
   "metadata": {},
   "source": [
    "A coluna Genero é uma coluna que o tipo é object, tendo quantidade de sexo bem parecida, sendo casos masculino 26 a mais que o feminino em uma base com total de 1958 dados por coluna, sendo assim, são dados balanceados para o estudo.\n",
    "No caso em questão alteramos o tipo de dado de object para int."
   ]
  },
  {
   "cell_type": "markdown",
   "id": "fab399aa",
   "metadata": {},
   "source": [
    "#### Coluna Mudancas hormonais"
   ]
  },
  {
   "cell_type": "code",
   "execution_count": null,
   "id": "25eaf433",
   "metadata": {},
   "outputs": [],
   "source": [
    "# contar o número de ocorrências de cada valor único na coluna 'Mudancas Hormonais'\n",
    "counts = df_one_hot['Mudancas Hormonais'].value_counts()\n",
    "counts.plot(kind='bar')\n",
    "\n",
    "# visualizar quantidade de cada informacao na coluna Mudancas Hormonais\n",
    "print(counts)\n",
    "\n",
    "# Visualizar Graficamente a quantidade de cada informacao da Coluna Mudancas Hormonais\n",
    "plt.title('Contagem Valores Mudancas Hormonais')\n",
    "plt.xlabel('Value')\n",
    "plt.ylabel('Count')\n",
    "plt.show()"
   ]
  },
  {
   "cell_type": "code",
   "execution_count": null,
   "id": "596f2ddf",
   "metadata": {},
   "outputs": [],
   "source": [
    "# Modificar os dados de Normal para 0 e Postmenopausal para 1\n",
    "df_one_hot['Mudancas Hormonais'] = df_one_hot['Mudancas Hormonais'].apply(lambda x: 0 if x == 'Normal' else 1 if x == 'Postmenopausal' else df_one_hot['Mudancas Hormonais'])\n",
    "df_one_hot"
   ]
  },
  {
   "cell_type": "code",
   "execution_count": null,
   "id": "710bf597",
   "metadata": {},
   "outputs": [],
   "source": [
    "# Filtrar casos de Homens que estejam cadastrados como pos menopausa\n",
    "df_novo = df_one_hot[((df_one_hot['Mudancas Hormonais'] == 1) & (df_one_hot['Genero_Male'] == 1))]\n",
    "# Contagem de numero de linhas\n",
    "num_rows = len(df_novo)\n",
    "\n",
    "print('Quantidade de homens pos menopausa é de:')\n",
    "print(num_rows)"
   ]
  },
  {
   "cell_type": "code",
   "execution_count": null,
   "id": "c14a746e",
   "metadata": {},
   "outputs": [],
   "source": [
    "# Filtrar casos de Homens que estejam cadastrados como pos menopausa onde mulheres nao estejam para verificar se o dado acima esta correto\n",
    "df_novo = df_one_hot[((df_one_hot['Mudancas Hormonais'] == 1) & (df_one_hot['Genero_Male'] == 1) & (df_one_hot['Genero_Female'] == 0))]\n",
    "# Contagem de numero de linhas\n",
    "num_rows = len(df_novo)\n",
    "\n",
    "print('Numero de homens que estão cadastrados como pos menopausa e mulher não é:')\n",
    "print(num_rows)"
   ]
  },
  {
   "cell_type": "code",
   "execution_count": null,
   "id": "c8d4a169",
   "metadata": {},
   "outputs": [],
   "source": [
    "# Verificar como ficou o data set\n",
    "df_novo.head()"
   ]
  },
  {
   "cell_type": "markdown",
   "id": "6322357c",
   "metadata": {},
   "source": [
    "no caso há 486 casos onde homens estão cadastrados como se estivessem Pos menopausa,no caso essa é uma condição somente feminina, sendo assim, no caso em questão, iremos deletar essas informações pois nao conseguimos aferir se foi cadastrado o Genero errado ou as mudancas hormonais errada."
   ]
  },
  {
   "cell_type": "code",
   "execution_count": null,
   "id": "2837542b",
   "metadata": {},
   "outputs": [],
   "source": [
    "# Filtrar casos de Homens que estejam cadastrados como pos menopausa onde mulheres nao estejam para verificar se o dado acima esta correto\n",
    "df_novo = df_one_hot[((df_one_hot['Mudancas Hormonais'] == 1) & (df_one_hot['Genero_Male'] == 1) & (df_one_hot['Genero_Female'] == 0))]\n",
    "\n",
    "# Apagar os dados filtrados do conjunto de dados original\n",
    "df_one_hot = df_one_hot.drop(df_novo.index)\n",
    "\n",
    "print(df_one_hot)"
   ]
  },
  {
   "cell_type": "code",
   "execution_count": null,
   "id": "2e995510",
   "metadata": {},
   "outputs": [],
   "source": [
    "# contar o número de ocorrências de cada valor único na coluna 'Mudancas Hormonais'\n",
    "counts = df_one_hot['Mudancas Hormonais'].value_counts()\n",
    "counts.plot(kind='bar')\n",
    "\n",
    "# visualizar quantidade de cada informacao na coluna Mudancas Hormonais\n",
    "print(counts)"
   ]
  },
  {
   "cell_type": "code",
   "execution_count": null,
   "id": "84239939",
   "metadata": {},
   "outputs": [],
   "source": [
    "# Verificar se o tipo dos dados da coluna Mudancas hormonais foram alteradas de object para int\n",
    "df_one_hot.info()"
   ]
  },
  {
   "cell_type": "markdown",
   "id": "3bb7c099",
   "metadata": {},
   "source": [
    "Podemos verificar que a coluna Mudancas Hormonais temos 981 casos como normal e agora após a exclusão de homens cadastrados como menopaulsa temos 491 casos como Postmenopausal, ficando 0 para os casos identificados como Normal e 1 para os casos identificados como Postmenopausal."
   ]
  },
  {
   "cell_type": "markdown",
   "id": "460ed7ba",
   "metadata": {},
   "source": [
    "#### Coluna Historico Familiar"
   ]
  },
  {
   "cell_type": "code",
   "execution_count": null,
   "id": "6d10bd7a",
   "metadata": {},
   "outputs": [],
   "source": [
    "# contar o número de ocorrências de cada valor único na coluna 'Historico Familiar'\n",
    "counts = df_one_hot['Historico Familiar'].value_counts()\n",
    "counts.plot(kind='bar')\n",
    "\n",
    "# visualizar quantidade de cada informacao na coluna Historico Familiar\n",
    "print(counts)\n",
    "\n",
    "# Visualizar Graficamente a quantidade de cada informacao da Coluna Historico Familiar\n",
    "plt.title('Contagem Valores Historico Familiar')\n",
    "plt.xlabel('Value')\n",
    "plt.ylabel('Count')\n",
    "plt.show()"
   ]
  },
  {
   "cell_type": "code",
   "execution_count": null,
   "id": "2f2e7ef1",
   "metadata": {},
   "outputs": [],
   "source": [
    "# Modificar os dados de No para 0 e Yes para 1\n",
    "df_one_hot['Historico Familiar'] = df_one_hot['Historico Familiar'].apply(lambda x: 0 if x == 'No' else 1 if x == 'Yes' else df_one_hot['Historico Familiar'])\n",
    "df_one_hot"
   ]
  },
  {
   "cell_type": "code",
   "execution_count": null,
   "id": "3b5e14c7",
   "metadata": {},
   "outputs": [],
   "source": [
    "# contar o número de ocorrências de cada valor único na coluna 'Historico Familiar'\n",
    "counts = df_one_hot['Historico Familiar'].value_counts()\n",
    "counts.plot(kind='bar')\n",
    "\n",
    "# visualizar quantidade de cada informacao na coluna Historico Familiar\n",
    "print(counts)"
   ]
  },
  {
   "cell_type": "code",
   "execution_count": null,
   "id": "a9b33480",
   "metadata": {},
   "outputs": [],
   "source": [
    "# Verificar se o tipo dos dados da coluna  Historico Familiar foram alteradas de object para int\n",
    "df_one_hot.info()"
   ]
  },
  {
   "cell_type": "markdown",
   "id": "365a0c73",
   "metadata": {},
   "source": [
    "Podemos verificar que a coluna Historico Familiar temos 998 casos que não possuem historico familiar e 960 que possuem historico familia, sendo casos 38 casos a mais no dataframe dos que possuem historico familia com osteoporose.\n",
    "Nos dados da coluna em questao, alteramos de object para int, ficando 0 para os casos onde não há historico na familia e 1 para os casos identificados que há historico familiar."
   ]
  },
  {
   "cell_type": "markdown",
   "id": "d2d9f81e",
   "metadata": {},
   "source": [
    "#### Coluna Raça/Etnia"
   ]
  },
  {
   "cell_type": "code",
   "execution_count": null,
   "id": "aac5d3b9",
   "metadata": {},
   "outputs": [],
   "source": [
    "# contar o número de ocorrências de cada valor único na coluna 'Raça/Etnia'\n",
    "counts = df_one_hot['Raça/Etnia'].value_counts()\n",
    "counts.plot(kind='bar')\n",
    "\n",
    "# visualizar quantidade de cada informacao na coluna Raça/Etnia\n",
    "print(counts)\n",
    "\n",
    "# Visualizar Graficamente a quantidade de cada informacao da Coluna Raça/Etnia\n",
    "plt.title('Contagem Valores Raça/Etnia')\n",
    "plt.xlabel('Value')\n",
    "plt.ylabel('Count')\n",
    "plt.show()"
   ]
  },
  {
   "cell_type": "code",
   "execution_count": null,
   "id": "b9ce907f",
   "metadata": {},
   "outputs": [],
   "source": [
    "# Faça o one-hot encoding da coluna categorica \"Raça/Etnia\"\n",
    "df = pd.get_dummies(df_one_hot, columns=[\"Raça/Etnia\"])\n",
    "\n",
    "# Exiba o DataFrame atualizado\n",
    "df.head()"
   ]
  },
  {
   "cell_type": "code",
   "execution_count": null,
   "id": "06419e6d",
   "metadata": {},
   "outputs": [],
   "source": [
    "# Alterar os dados das colunas Raca/Etnia_African American, Raça/Etnia_Asian e Raça/Etnia_Caucasian  de True para 1 e False para 0\n",
    "\n",
    "df['Raça/Etnia_African American'] = df['Raça/Etnia_African American'].map({True: 1, False: 0})\n",
    "df['Raça/Etnia_Asian'] = df['Raça/Etnia_Asian'].map({True: 1, False: 0})\n",
    "df['Raça/Etnia_Caucasian'] = df['Raça/Etnia_Caucasian'].map({True: 1, False: 0})\n",
    "\n",
    "# Verificar\n",
    "df"
   ]
  },
  {
   "cell_type": "markdown",
   "id": "179082f6",
   "metadata": {},
   "source": [
    "A coluna Raça/Etnia é uma coluna que cntem tres tipos de Etnias, tendo as 3 Racas/Etnias quantidades bem aproximadas de casos de cada uma, sendo , Raça/Etnia_African American que tem 681 casos, a Raça/Etnia_Asian tendo 631 caso sendo 50 casos abaixo do African American e Raça/Etnia_Caucasian tendo 646 casos sendo 35 a menos que African American e 15 acima do Asian, entando equiparados em mais de 600 casos cada um, sendo assim, considera-se dados balanceados nessa coluna.\n",
    "No caso em questão alteramos o tipo de dado de object para int."
   ]
  },
  {
   "cell_type": "markdown",
   "id": "93f2ec4c",
   "metadata": {},
   "source": [
    "#### Coluna Peso Corporal"
   ]
  },
  {
   "cell_type": "code",
   "execution_count": null,
   "id": "94c615ff",
   "metadata": {},
   "outputs": [],
   "source": [
    "# contar o número de ocorrências de cada valor único na coluna 'Raça/Etnia'\n",
    "counts = df['Peso Corporal'].value_counts()\n",
    "counts.plot(kind='bar')\n",
    "\n",
    "# visualizar quantidade de cada informacao na coluna Raça/Etnia\n",
    "print(counts)\n",
    "\n",
    "# Visualizar Graficamente a quantidade de cada informacao da Coluna Raça/Etnia\n",
    "plt.title('Contagem Valores Peso Corporal')\n",
    "plt.xlabel('Value')\n",
    "plt.ylabel('Count')\n",
    "plt.show()"
   ]
  },
  {
   "cell_type": "code",
   "execution_count": null,
   "id": "5413c8ba",
   "metadata": {},
   "outputs": [],
   "source": [
    "# Modificar os dados de Normal para 0 e Underweight para 1\n",
    "df['Peso Corporal'] = df['Peso Corporal'].apply(lambda x: 0 if x == 'Normal' else 1 if x == 'Underweight' else df['Peso Corporal'])\n",
    "df"
   ]
  },
  {
   "cell_type": "code",
   "execution_count": null,
   "id": "25f98ff5",
   "metadata": {},
   "outputs": [],
   "source": [
    "# Verificar se o tipo dos dados da coluna  Peso Corporal foram alteradas de object para int\n",
    "df.info()"
   ]
  },
  {
   "cell_type": "markdown",
   "id": "36b95624",
   "metadata": {},
   "source": [
    "Podemos verificar que na coluna Peso Corporal temos 1027 casos como Normal e 931 casos como Abaixo do Peso, sendo casos considerados como Peso Corporal Normal sendo 96  a mais dos que os considerados abaixo do peso. \n",
    "Nos dados da coluna em questao, alteramos de object para int, ficando 0 para os casos identificados como Normal e 1 para os casos identificados como abaixo do peso."
   ]
  },
  {
   "cell_type": "markdown",
   "id": "bbbff22f",
   "metadata": {},
   "source": [
    "#### Coluna Ingestao de Calcio"
   ]
  },
  {
   "cell_type": "code",
   "execution_count": null,
   "id": "6e8e45eb",
   "metadata": {},
   "outputs": [],
   "source": [
    "# contar o número de ocorrências de cada valor único na coluna 'Ingestao de Calcio'\n",
    "counts = df['Ingestao de Calcio'].value_counts()\n",
    "counts.plot(kind='bar')\n",
    "\n",
    "# visualizar quantidade de cada informacao na coluna Ingestao de Calcio\n",
    "print(counts)\n",
    "\n",
    "# Visualizar Graficamente a quantidade de cada informacao da Coluna Ingestao de Calcio\n",
    "plt.title('Contagem Valores Ingestao de Calcio')\n",
    "plt.xlabel('Value')\n",
    "plt.ylabel('Count')\n",
    "plt.show()"
   ]
  },
  {
   "cell_type": "code",
   "execution_count": null,
   "id": "ed0c83d6",
   "metadata": {},
   "outputs": [],
   "source": [
    "# contar o número de ocorrências de cada valor único na coluna 'Ingestao de Calcio'\n",
    "counts = df['Ingestao de Calcio'].value_counts()\n",
    "counts.plot(kind='bar')\n",
    "\n",
    "# visualizar quantidade de cada informacao na coluna Ingestao de Calcio\n",
    "print(counts)\n",
    "\n",
    "# Visualizar Graficamente a quantidade de cada informacao da Coluna Ingestao de Calcio\n",
    "plt.title('Contagem Valores Ingestao de Calcio')\n",
    "plt.xlabel('Value')\n",
    "plt.ylabel('Count')\n",
    "plt.show()"
   ]
  },
  {
   "cell_type": "code",
   "execution_count": null,
   "id": "0683c7e2",
   "metadata": {},
   "outputs": [],
   "source": [
    "# Modificar os dados de Adequate para 0 e Low para 1\n",
    "df['Ingestao de Calcio'] = df['Ingestao de Calcio'].apply(lambda x: 0 if x == 'Adequate' else 1 if x == 'Low' else df['Ingestao de Calcio'])\n",
    "df"
   ]
  },
  {
   "cell_type": "code",
   "execution_count": null,
   "id": "787b3a24",
   "metadata": {},
   "outputs": [],
   "source": [
    "# Verificar se o tipo dos dados da coluna Ingestao de Dados  foram alteradas de object para int\n",
    "df.info()"
   ]
  },
  {
   "cell_type": "markdown",
   "id": "1492bd89",
   "metadata": {},
   "source": [
    "Podemos verificar que na coluna Ingestão de Calcio temos 1004 casos como Abaixo e 954 casos como Adequado, sendo casos considerados como Ingestao de Calcio Abaixo 50  a mais dos que os considerados a ingestao de calcio adequada. \n",
    "Nos dados da coluna em questao, alteramos de object para int, ficando 0 para os casos identificados como Adequatte e 1 para os casos identificados como Low ."
   ]
  },
  {
   "cell_type": "markdown",
   "id": "1db6068c",
   "metadata": {},
   "source": [
    "#### Coluna Ingestao de Vitamina D "
   ]
  },
  {
   "cell_type": "code",
   "execution_count": null,
   "id": "ed4d6186",
   "metadata": {},
   "outputs": [],
   "source": [
    "# contar o número de ocorrências de cada valor único na coluna 'Ingestao de Vitamina D'\n",
    "counts = df['Ingestao de Vitamina D'].value_counts()\n",
    "counts.plot(kind='bar')\n",
    "\n",
    "# visualizar quantidade de cada informacao na coluna de Ingestao de Vitamina D\n",
    "print(counts)\n",
    "\n",
    "# Visualizar Graficamente a quantidade de cada informacao da Coluna Ingestao de Vitamina D\n",
    "plt.title('Contagem Valores Ingestao de Vitamina D')\n",
    "plt.xlabel('Value')\n",
    "plt.ylabel('Count')\n",
    "plt.show()"
   ]
  },
  {
   "cell_type": "code",
   "execution_count": null,
   "id": "cd72df69",
   "metadata": {},
   "outputs": [],
   "source": [
    "# Modificar os dados de Adequate para 0 e Low para 1\n",
    "df['Ingestao de Vitamina D'] = df['Ingestao de Vitamina D'].apply(lambda x: 0 if x == 'Sufficient' else 1 if x == 'Insufficient' else df['Ingestao de Vitamina D'])\n",
    "df"
   ]
  },
  {
   "cell_type": "code",
   "execution_count": null,
   "id": "ecb4d4a6",
   "metadata": {},
   "outputs": [],
   "source": [
    "# Verificar se o tipo dos dados da coluna  Ingestao de Vitamina D foram alteradas de object para int\n",
    "df.info()"
   ]
  },
  {
   "cell_type": "markdown",
   "id": "9d7ba3d2",
   "metadata": {},
   "source": [
    "Podemos verificar que na coluna Ingestao de Vitamina D temos 1011 casos como Suficiente e 947 casos como insuficiente, sendo casos considerados como Ingestao de Vitamina D suficiente 64  a mais dos que os considerados  Ingestao de Vitamina D insuficiente. \n",
    "Nos dados da coluna em questao, alteramos de object para int, ficando 0 para os casos identificados como Suficiente e 1 para os casos identificados como Insuficiente ."
   ]
  },
  {
   "cell_type": "markdown",
   "id": "61de8292",
   "metadata": {},
   "source": [
    "#### Coluna Atividade Fisica"
   ]
  },
  {
   "cell_type": "code",
   "execution_count": null,
   "id": "746e0d4b",
   "metadata": {},
   "outputs": [],
   "source": [
    "# contar o número de ocorrências de cada valor único na coluna 'Ingestao de Vitamina D'\n",
    "counts = df['Atividade Fisica'].value_counts()\n",
    "counts.plot(kind='bar')\n",
    "\n",
    "# visualizar quantidade de cada informacao na coluna de Ingestao de Vitamina D\n",
    "print(counts)\n",
    "\n",
    "# Visualizar Graficamente a quantidade de cada informacao da Coluna Ingestao de Vitamina D\n",
    "plt.title('Contagem Valores Atividade Fisica')\n",
    "plt.xlabel('Value')\n",
    "plt.ylabel('Count')\n",
    "plt.show()"
   ]
  },
  {
   "cell_type": "code",
   "execution_count": null,
   "id": "389f3e02",
   "metadata": {},
   "outputs": [],
   "source": [
    "# Modificar os dados de Active para 0 e Sedentary para 1\n",
    "df['Atividade Fisica'] = df['Atividade Fisica'].apply(lambda x: 0 if x == 'Active' else 1 if x == 'Sedentary' else df['Atividade Fisica'])\n",
    "df"
   ]
  },
  {
   "cell_type": "code",
   "execution_count": null,
   "id": "4a28cedc",
   "metadata": {},
   "outputs": [],
   "source": [
    "# Verificar se o tipo dos dados da coluna  Atividade Fisica foram alteradas de object para int\n",
    "df.info()"
   ]
  },
  {
   "cell_type": "markdown",
   "id": "7d08b711",
   "metadata": {},
   "source": [
    "Podemos verificar que na coluna de Atividade Fisica temos 1021 casos como Ativos e 937 casos como Sedentarios, sendo casos considerados como Ativos 84  a mais dos que os considerados Sedentarios. \n",
    "Nos dados da coluna em questao, alteramos de object para int, ficando 0 para os casos identificados como Ativos e 1 para os casos identificados como Sedentarios ."
   ]
  },
  {
   "cell_type": "markdown",
   "id": "941ebcfb",
   "metadata": {},
   "source": [
    "#### Coluna Fuma"
   ]
  },
  {
   "cell_type": "code",
   "execution_count": null,
   "id": "ad16b5d8",
   "metadata": {},
   "outputs": [],
   "source": [
    "# contar o número de ocorrências de cada valor único na coluna de 'Fumantes'\n",
    "counts = df['Fuma'].value_counts()\n",
    "counts.plot(kind='bar')\n",
    "\n",
    "# visualizar quantidade de cada informacao na coluna de Fumantes\n",
    "print(counts)\n",
    "\n",
    "# Visualizar Graficamente a quantidade de cada informacao da Coluna de Fumantes\n",
    "plt.title('Contagem Valores Fumantes')\n",
    "plt.xlabel('Value')\n",
    "plt.ylabel('Count')\n",
    "plt.show()"
   ]
  },
  {
   "cell_type": "code",
   "execution_count": null,
   "id": "6606e56c",
   "metadata": {},
   "outputs": [],
   "source": [
    "# Modificar os dados de No para 0 e Yes para 1\n",
    "df['Fuma'] = df['Fuma'].apply(lambda x: 0 if x == 'No' else 1 if x == 'Yes' else df['Fuma'])\n",
    "df"
   ]
  },
  {
   "cell_type": "code",
   "execution_count": null,
   "id": "e490e14f",
   "metadata": {},
   "outputs": [],
   "source": [
    "# Verificar se o tipo dos dados da coluna Fuma foram alteradas de object para int\n",
    "df.info()"
   ]
  },
  {
   "cell_type": "markdown",
   "id": "b925dc4c",
   "metadata": {},
   "source": [
    "Podemos verificar que na coluna de Fuma temos 982 casos como Yes fumantes e 976 casos como No Fuma, sendo casos considerados como Fumantes 06  a mais dos que os considerados não fumantes. \n",
    "Nos dados da coluna em questão, alteramos de object para int, ficando 0 para os casos identificados como não fumantes e 1 para os casos identificados como Fumantes ."
   ]
  },
  {
   "cell_type": "markdown",
   "id": "db72441f",
   "metadata": {},
   "source": [
    "#### Coluna Consome Bebida Alcoolica"
   ]
  },
  {
   "cell_type": "code",
   "execution_count": null,
   "id": "85db10de",
   "metadata": {},
   "outputs": [],
   "source": [
    "# contar o número de ocorrências de cada valor único na coluna de 'Consome Bebida Alcoolica'\n",
    "counts = df['Consome Bebida Alcoolica'].value_counts()\n",
    "counts.plot(kind='bar')\n",
    "\n",
    "# visualizar quantidade de cada informacao na coluna de Fumantes\n",
    "print(counts)\n",
    "\n",
    "# Visualizar Graficamente a quantidade de cada informacao da Coluna de Fumantes\n",
    "plt.title('Contagem Valores Consome Bebida Alcoolica')\n",
    "plt.xlabel('Value')\n",
    "plt.ylabel('Count')\n",
    "plt.show()"
   ]
  },
  {
   "cell_type": "code",
   "execution_count": null,
   "id": "ca154f7d",
   "metadata": {},
   "outputs": [],
   "source": [
    "# No lugar dos valores NaN colocar No\n",
    "df['Consome Bebida Alcoolica'] = df['Consome Bebida Alcoolica'].fillna('No')\n",
    "df"
   ]
  },
  {
   "cell_type": "code",
   "execution_count": null,
   "id": "4904e776",
   "metadata": {},
   "outputs": [],
   "source": [
    "# Verificar se as modificacoes foram realizadas dos dados Nan para No\n",
    "# contar o número de ocorrências de cada valor único na coluna de 'Consome Bebida Alcoolica'\n",
    "counts = df['Consome Bebida Alcoolica'].value_counts()\n",
    "counts.plot(kind='bar')\n",
    "\n",
    "# visualizar quantidade de cada informacao na coluna de Fumantes\n",
    "print(counts)\n",
    "\n",
    "# Visualizar Graficamente a quantidade de cada informacao da Coluna de Fumantes\n",
    "plt.title('Contagem Valores Consome Bebida Alcoolica')\n",
    "plt.xlabel('Value')\n",
    "plt.ylabel('Count')\n",
    "plt.show()"
   ]
  },
  {
   "cell_type": "code",
   "execution_count": null,
   "id": "f692a8b4",
   "metadata": {},
   "outputs": [],
   "source": [
    "# Modificar os dados de No para 0 e Moderate para 1\n",
    "df['Consome Bebida Alcoolica'] = df['Consome Bebida Alcoolica'].apply(lambda x: 0 if x == 'No' else 1 if x == 'Moderate' else df['Consome Bebida Alcoolica'])\n",
    "df"
   ]
  },
  {
   "cell_type": "code",
   "execution_count": null,
   "id": "a2ddfe13",
   "metadata": {},
   "outputs": [],
   "source": [
    "# Verificar se o tipo dos dados da coluna Consome Bebida Alcoolica foram alteradas de object para int\n",
    "df.info()"
   ]
  },
  {
   "cell_type": "markdown",
   "id": "e64dd27a",
   "metadata": {},
   "source": [
    "Podemos verificar que na coluna Consome Bebida Alcoolica temos 970 casos como Moderate Consome Bebida Alcoolicas 988 casos como No Consome Bebidas Alcoolicas, sendo casos considerados como Nao consome bebida alcoolicas 18  a mais dos que os que consomem bebida alcoolica moderadamente. \n",
    "Nos dados da coluna em questão, alteramos de object para int, ficando 0 para os casos identificados como não fumantes e 1 para os casos identificados como Fumantes ."
   ]
  },
  {
   "cell_type": "markdown",
   "id": "3b2781ee",
   "metadata": {},
   "source": [
    "#### Coluna Condicao Medica"
   ]
  },
  {
   "cell_type": "code",
   "execution_count": null,
   "id": "52b92f8b",
   "metadata": {},
   "outputs": [],
   "source": [
    "\n",
    "# contar o número de ocorrências de cada valor único na coluna de 'Condicao Medica'\n",
    "counts = df['Condicao Medica'].value_counts()\n",
    "counts.plot(kind='bar')\n",
    "\n",
    "# visualizar quantidade de cada informacao na coluna de Condicao Medica\n",
    "print(counts)\n",
    "\n",
    "# Visualizar Graficamente a quantidade de cada informacao da Coluna de Condicao Medica\n",
    "plt.title('Contagem Valores Condicao Medica')\n",
    "plt.xlabel('Value')\n",
    "plt.ylabel('Count')\n",
    "plt.show()"
   ]
  },
  {
   "cell_type": "code",
   "execution_count": null,
   "id": "ca0ea368",
   "metadata": {},
   "outputs": [],
   "source": [
    "# No lugar dos valores NaN colocar No\n",
    "df['Condicao Medica'] = df['Condicao Medica'].fillna('No')\n",
    "df"
   ]
  },
  {
   "cell_type": "code",
   "execution_count": null,
   "id": "28737b68",
   "metadata": {},
   "outputs": [],
   "source": [
    "\n",
    "# contar o número de ocorrências de cada valor único na coluna de 'Condicao Medica'\n",
    "counts = df['Condicao Medica'].value_counts()\n",
    "counts.plot(kind='bar')\n",
    "\n",
    "# visualizar quantidade de cada informacao na coluna de Condicao Medica\n",
    "print(counts)\n",
    "\n",
    "# Visualizar Graficamente a quantidade de cada informacao da Coluna de Condicao Medica\n",
    "plt.title('Contagem Valores Condicao Medica')\n",
    "plt.xlabel('Value')\n",
    "plt.ylabel('Count')\n",
    "plt.show()"
   ]
  },
  {
   "cell_type": "code",
   "execution_count": null,
   "id": "da8bbd44",
   "metadata": {},
   "outputs": [],
   "source": [
    "# Faça o one-hot encoding da coluna \" Condicao Medica \"\n",
    "df_condicao = pd.get_dummies(df, columns=[\"Condicao Medica\"])\n",
    "\n",
    "# Exiba o DataFrame atualizado\n",
    "df_condicao.head()"
   ]
  },
  {
   "cell_type": "code",
   "execution_count": null,
   "id": "89ae7145",
   "metadata": {},
   "outputs": [],
   "source": [
    "# Alterar os dados das colunas Medica_Hyperthyroidism e Condicao Medica_Rheumatoid Arthritis de True para 1 e False para 0\n",
    "\n",
    "df_condicao['Condicao Medica_Hyperthyroidism'] = df_condicao['Condicao Medica_Hyperthyroidism'].map({True: 1, False: 0})\n",
    "df_condicao['Condicao Medica_Rheumatoid Arthritis'] = df_condicao['Condicao Medica_Rheumatoid Arthritis'].map({True: 1, False: 0})\n",
    "df_condicao['Condicao Medica_No'] = df_condicao['Condicao Medica_No'].map({True: 1, False: 0})\n",
    "\n",
    "# Verificar\n",
    "df_condicao"
   ]
  },
  {
   "cell_type": "code",
   "execution_count": null,
   "id": "6ccebf81",
   "metadata": {},
   "outputs": [],
   "source": [
    "# Verificar se o tipo dos dados da coluna Condicao Medica foram alteradas de object para int\n",
    "df_condicao.info()"
   ]
  },
  {
   "cell_type": "markdown",
   "id": "713751d6",
   "metadata": {},
   "source": [
    "Podemos verificar que na coluna \n",
    "Condicao Medica temos 678 casos como Hyperthyroidism , 633 como Rheumatoid Arthritis e 647 como No. \n",
    "Nos dados da coluna em questão, alteramos de object para int ."
   ]
  },
  {
   "cell_type": "markdown",
   "id": "ef044b15",
   "metadata": {},
   "source": [
    "#### Coluna Medicacao"
   ]
  },
  {
   "cell_type": "code",
   "execution_count": null,
   "id": "d13ea404",
   "metadata": {},
   "outputs": [],
   "source": [
    "\n",
    "# contar o número de ocorrências de cada valor único na coluna de 'Medicacao'\n",
    "counts = df_condicao['Medicacao'].value_counts()\n",
    "counts.plot(kind='bar')\n",
    "\n",
    "# visualizar quantidade de cada informacao na coluna de Medicacao\n",
    "print(counts)\n",
    "\n",
    "# Visualizar Graficamente a quantidade de cada informacao da Coluna de Medicacao\n",
    "plt.title('Contagem Valores Medicacao')\n",
    "plt.xlabel('Value')\n",
    "plt.ylabel('Count')\n",
    "plt.show()"
   ]
  },
  {
   "cell_type": "code",
   "execution_count": null,
   "id": "d3d33d03",
   "metadata": {},
   "outputs": [],
   "source": [
    "# No lugar dos valores NaN colocar No\n",
    "df_condicao['Medicacao'] = df_condicao['Medicacao'].fillna('No')\n",
    "df_condicao"
   ]
  },
  {
   "cell_type": "code",
   "execution_count": null,
   "id": "9056b276",
   "metadata": {},
   "outputs": [],
   "source": [
    "\n",
    "# contar o número de ocorrências de cada valor único na coluna de 'Medicacao'\n",
    "counts = df_condicao['Medicacao'].value_counts()\n",
    "counts.plot(kind='bar')\n",
    "\n",
    "# visualizar quantidade de cada informacao na coluna de Medicacao\n",
    "print(counts)\n",
    "\n",
    "# Visualizar Graficamente a quantidade de cada informacao da Coluna de Medicacao\n",
    "plt.title('Contagem Valores Medicacao')\n",
    "plt.xlabel('Value')\n",
    "plt.ylabel('Count')\n",
    "plt.show()"
   ]
  },
  {
   "cell_type": "code",
   "execution_count": null,
   "id": "0eb3e711",
   "metadata": {},
   "outputs": [],
   "source": [
    "# Modificar os dados de No para 0 e Corticosteroids para 1\n",
    "df_condicao['Medicacao'] = df_condicao['Medicacao'].apply(lambda x: 0 if x == 'No' else 1 if x == 'Corticosteroids' else df_condicao['Medicacao'])\n",
    "df_condicao"
   ]
  },
  {
   "cell_type": "code",
   "execution_count": null,
   "id": "672b319a",
   "metadata": {},
   "outputs": [],
   "source": [
    "# Verificar se o tipo dos dados da coluna Medicacao foram alteradas de object para int\n",
    "df_condicao.info()"
   ]
  },
  {
   "cell_type": "markdown",
   "id": "deee450b",
   "metadata": {},
   "source": [
    "Podemos verificar que na coluna Medicacao temos 973 casos como Corticosteroids e 985 casos como No utiliza medicamentos, sendo casos considerados como Nao consome medicamentos 12  a mais dos que os que consomem Corticosteroids. \n",
    "Nos dados da coluna em questão, alteramos de object para int, ficando 0 para os casos identificados como não fumantes e 1 para os casos identificados como Fumantes ."
   ]
  },
  {
   "cell_type": "markdown",
   "id": "ca7d222f",
   "metadata": {},
   "source": [
    "#### Coluna Fraturas Previas"
   ]
  },
  {
   "cell_type": "code",
   "execution_count": null,
   "id": "289ae496",
   "metadata": {},
   "outputs": [],
   "source": [
    "\n",
    "# contar o número de ocorrências de cada valor único na coluna de 'Fraturas Previas'\n",
    "counts = df_condicao['Fraturas Previas'].value_counts()\n",
    "counts.plot(kind='bar')\n",
    "\n",
    "# visualizar quantidade de cada informacao na coluna de Fraturas Previas\n",
    "print(counts)\n",
    "\n",
    "# Visualizar Graficamente a quantidade de cada informacao da Coluna de Fraturas Previas\n",
    "plt.title('Contagem Valores Fraturas Previas')\n",
    "plt.xlabel('Value')\n",
    "plt.ylabel('Count')\n",
    "plt.show()"
   ]
  },
  {
   "cell_type": "code",
   "execution_count": null,
   "id": "86fe1d61",
   "metadata": {},
   "outputs": [],
   "source": [
    "# Modificar os dados de No para 0 e Yes para 1\n",
    "df_condicao['Fraturas Previas'] = df_condicao['Fraturas Previas'].apply(lambda x: 0 if x == 'No' else 1 if x == 'Yes' else df_condicao['Fraturas Previas'])\n",
    "df_condicao"
   ]
  },
  {
   "cell_type": "code",
   "execution_count": null,
   "id": "768a52f9",
   "metadata": {},
   "outputs": [],
   "source": [
    "# Verificar se o tipo dos dados da coluna Fraturas Previas foram alteradas de object para int\n",
    "df_condicao.info()"
   ]
  },
  {
   "cell_type": "markdown",
   "id": "89ea04a1",
   "metadata": {},
   "source": [
    "Podemos verificar que na coluna Fraturas Previas temos 983 casos como Yes e 975 casos como No tem Fraturas Previas, sendo casos considerados como tem Fraturas Previas 8  a mais dos que os que nao tem Fraturas Previas. \n",
    "Nos dados da coluna em questão, alteramos de object para int, ficando 0 para os casos identificados como não Fraturas Previas e 1 para os casos identificados como Fraturas Previas ."
   ]
  },
  {
   "cell_type": "markdown",
   "id": "200683ec",
   "metadata": {},
   "source": [
    "#### Salvar Dataframe Modificado"
   ]
  },
  {
   "cell_type": "code",
   "execution_count": null,
   "id": "3ee7127c",
   "metadata": {},
   "outputs": [],
   "source": [
    "# Salvar o Dataframe alterado\n",
    "df_condicao.to_csv('Osteoporose_atual.csv', index=False)"
   ]
  },
  {
   "cell_type": "markdown",
   "id": "21d4f133",
   "metadata": {},
   "source": [
    "### DataViz (Visualização)"
   ]
  },
  {
   "cell_type": "code",
   "execution_count": null,
   "id": "b6df33fe",
   "metadata": {},
   "outputs": [],
   "source": [
    "pip install skimpy"
   ]
  },
  {
   "cell_type": "code",
   "execution_count": null,
   "id": "06ed2cca",
   "metadata": {},
   "outputs": [],
   "source": [
    "# Bibliotecas utilizadas\n",
    "\n",
    "#Manipulação de dados\n",
    "import pandas as pd\n",
    "import numpy as np\n",
    "\n",
    "# Visualizar dados (DataViz)\n",
    "import matplotlib.pyplot as plt\n",
    "import seaborn as sns\n",
    "import lux\n",
    "import sweetviz as sv\n",
    "\n",
    "\n",
    "# Ignorar avisos\n",
    "import warnings\n",
    "warnings.filterwarnings('ignore')"
   ]
  },
  {
   "cell_type": "code",
   "execution_count": null,
   "id": "9f2badfe",
   "metadata": {},
   "outputs": [],
   "source": [
    "# Ler o arquivo csv em um dataframe\n",
    "df = pd.read_csv('Osteoporose_atual.csv')\n",
    "\n",
    "# Imprimir as 5 primeiras linhas do dataframe\n",
    "df.head()"
   ]
  },
  {
   "cell_type": "code",
   "execution_count": null,
   "id": "ca63d054",
   "metadata": {},
   "outputs": [],
   "source": [
    "import matplotlib.pyplot as plt\n",
    "\n",
    "# Set the style to darkgrid (use parentheses instead of square brackets)\n",
    "sns.set_style('darkgrid')\n",
    "\n",
    "# Assuming df is your DataFrame\n",
    "df.hist(figsize=(15,15))  \n",
    "\n",
    "# Show the plot\n",
    "plt.show()"
   ]
  },
  {
   "cell_type": "code",
   "execution_count": null,
   "id": "6aeb3133",
   "metadata": {},
   "outputs": [],
   "source": [
    "sns.pairplot(df, )"
   ]
  },
  {
   "cell_type": "code",
   "execution_count": null,
   "id": "186511eb",
   "metadata": {},
   "outputs": [],
   "source": [
    "# analise dos dados com Sweetviz\n",
    "dados = sv.analyze(df)\n",
    "\n",
    "# Visualizando o relatorio com Sweetviz\n",
    "dados.show_notebook()"
   ]
  },
  {
   "cell_type": "code",
   "execution_count": null,
   "id": "f0ff62e6",
   "metadata": {},
   "outputs": [],
   "source": [
    "# Calcular Correlaçao da Matriz\n",
    "corr_matrix = df.corr()\n",
    "\n",
    "# Visualizar a correlação da Matriz usando Mapa de Calor (Heatmap)\n",
    "plt.figure(figsize=(20, 15))\n",
    "sns.heatmap(corr_matrix, annot=True, cmap='coolwarm')\n",
    "plt.show()"
   ]
  },
  {
   "cell_type": "code",
   "execution_count": null,
   "id": "d4723cb5",
   "metadata": {},
   "outputs": [],
   "source": [
    "import pygwalker as pyg\n",
    "walker = pyg.walk(df)\n",
    "walker"
   ]
  },
  {
   "cell_type": "code",
   "execution_count": null,
   "id": "5a10c98e",
   "metadata": {},
   "outputs": [],
   "source": [
    "# Verificar se o tipo dos dados da coluna Condicao Medica foram alteradas de object para int\n",
    "df_condicao.info()"
   ]
  },
  {
   "cell_type": "markdown",
   "id": "6f7dc4a2",
   "metadata": {},
   "source": [
    "### Idade que tem mais Casos de Pessoas Com Osteoporose?"
   ]
  },
  {
   "cell_type": "code",
   "execution_count": null,
   "id": "b01bcbf1",
   "metadata": {},
   "outputs": [],
   "source": [
    "# Trazer somente os dados onde a coluna osteoporose for igual a 1, onde indica que tem osteoporose\n",
    "data_Idade = df[df['Osteoporose'] == 1]\n",
    "data_Idade"
   ]
  },
  {
   "cell_type": "code",
   "execution_count": null,
   "id": "d3a7937e",
   "metadata": {},
   "outputs": [],
   "source": [
    "data_Idade.info()"
   ]
  },
  {
   "cell_type": "code",
   "execution_count": null,
   "id": "fca8dedb",
   "metadata": {},
   "outputs": [],
   "source": [
    "# analise dos dados com Sweetviz\n",
    "dados = sv.analyze(data_Idade)\n",
    "\n",
    "# Visualizando o relatorio com Sweetviz\n",
    "dados.show_notebook()"
   ]
  },
  {
   "cell_type": "code",
   "execution_count": null,
   "id": "477ecabc",
   "metadata": {},
   "outputs": [],
   "source": [
    "# Filter the dataframe to only include rows where Osteoporose is True\n",
    "osteoporose_cases = data_Idade[data_Idade['Osteoporose'] == 1]\n",
    "\n",
    "# Group the filtered dataframe by 'Idade' and count the number of cases\n",
    "idade_counts = osteoporose_cases['Idade'].value_counts().sort_values(ascending=True)\n",
    "\n",
    "# Plot the results\n",
    "plt.figure(figsize=(20, 15))\n",
    "idade_counts.plot(kind='bar')\n",
    "plt.title('Idades com mais casos de Osteoporose')\n",
    "plt.xlabel('Idade')\n",
    "plt.ylabel('Número de casos')\n",
    "plt.show()"
   ]
  },
  {
   "cell_type": "code",
   "execution_count": null,
   "id": "90a6b08d",
   "metadata": {},
   "outputs": [],
   "source": [
    "data_Idade_18 = data_Idade[data_Idade['Idade'] == 18]\n",
    "data_Idade_18"
   ]
  },
  {
   "cell_type": "markdown",
   "id": "822d0dc8",
   "metadata": {},
   "source": [
    "#### Quem tem mais casos de Osteoporose, Homem ou Mulher?"
   ]
  },
  {
   "cell_type": "code",
   "execution_count": null,
   "id": "4c1dcf9a",
   "metadata": {},
   "outputs": [],
   "source": [
    "# Trazer somente os dados onde a coluna osteoporose for igual a 1, onde indica que tem osteoporose\n",
    "data_Genero = df[df['Osteoporose'] == 1]\n",
    "data_Genero"
   ]
  },
  {
   "cell_type": "code",
   "execution_count": null,
   "id": "a8c64eff",
   "metadata": {},
   "outputs": [],
   "source": [
    "data_Genero.info()"
   ]
  },
  {
   "cell_type": "code",
   "execution_count": null,
   "id": "48bdf363",
   "metadata": {},
   "outputs": [],
   "source": [
    "# contar o número de ocorrências de cada valor único na coluna 'Genero_Female'\n",
    "counts = data_Genero['Genero_Female'].value_counts()\n",
    "counts.plot(kind='bar')\n",
    "\n",
    "# visualizar quantidade de cada informacoes na coluna Genero_Female\n",
    "print(counts)\n",
    "\n",
    "# Visualizar Graficamente a quantidade de cada informacao da Coluna Genero_Female\n",
    "plt.title('Contagem Valores Genero_Female Que tem Osteoporose')\n",
    "plt.xlabel('Value')\n",
    "plt.ylabel('Count')\n",
    "plt.show()\n",
    "\n",
    "print('############################################################')\n",
    "\n",
    "# contar o número de ocorrências de cada valor único na coluna 'Genero_Male'\n",
    "counts = data_Genero['Genero_Male'].value_counts()\n",
    "counts.plot(kind='bar')\n",
    "\n",
    "# visualizar quantidade de cada informacoes na coluna Genero_Male\n",
    "print(counts)\n",
    "\n",
    "# Visualizar Graficamente a quantidade de cada informacao da Coluna Genero_Male\n",
    "plt.title('Contagem Valores Genero_Male Que tem Osteoporose')\n",
    "plt.xlabel('Value')\n",
    "plt.ylabel('Count')\n",
    "plt.show()"
   ]
  },
  {
   "cell_type": "markdown",
   "id": "7be76746",
   "metadata": {},
   "source": [
    "No Dataframe em questão podemos verificar que nos casos onde foram detectados Osteoporose, total são 979, sendo 502 casos homens e 477 Casos Mulheres. Sendo 4,99% mais casos onde Homens foram detecdados com Osteoporose do que mulheres.\n",
    "\n",
    "Porém, no Dataframe em questão há total de casos Male igual a 502 sendo   02,63% a mais que os casos de Female que tem o total de 477 casos.\n",
    "Tirando a porcentagem a mais que há nos casos sem a medição da diferenca de casos e a porcentagem que há de casos a mais, fica 02,36% casos onde Homem tem Osteoporose a mais do que as Mulheres.\n",
    "\n"
   ]
  },
  {
   "cell_type": "markdown",
   "id": "b7dc2b54",
   "metadata": {},
   "source": [
    "#### Qual Raça Etnia tem mais casos de Osteoporose?"
   ]
  },
  {
   "cell_type": "code",
   "execution_count": null,
   "id": "f9b99766",
   "metadata": {},
   "outputs": [],
   "source": [
    "# Trazer somente os dados onde a coluna osteoporose for igual a 1, onde indica que tem osteoporose\n",
    "data_Raça_Etnia = df[df['Osteoporose'] == 1]\n",
    "data_Raça_Etnia"
   ]
  },
  {
   "cell_type": "code",
   "execution_count": null,
   "id": "a9970e0b",
   "metadata": {},
   "outputs": [],
   "source": [
    "# contar o número de ocorrências de cada valor único na coluna 'Raça/Etnia_African American'\n",
    "counts_American = data_Raça_Etnia['Raça/Etnia_African American'].value_counts()\n",
    "counts_American.plot(kind='bar')\n",
    "\n",
    "# visualizar quantidade de cada informacoes na coluna Raça/Etnia_African American\n",
    "print(counts_American)\n",
    "\n",
    "# Visualizar Graficamente a quantidade de cada informacao da Coluna Raça/Etnia_African American\n",
    "plt.title('Contagem Valores Raça/Etnia_African que tem Osteoporose')\n",
    "plt.xlabel('Value')\n",
    "plt.ylabel('Count')\n",
    "plt.show()\n",
    "\n",
    "print('############################################################')\n",
    "\n",
    "# contar o número de ocorrências de cada valor único na coluna 'Raça/Etnia_Asian'\n",
    "counts_Asian = data_Raça_Etnia['Raça/Etnia_Asian'].value_counts()\n",
    "counts_Asian.plot(kind='bar')\n",
    "\n",
    "# visualizar quantidade de cada informacoes na coluna Raça/Etnia_Asian\n",
    "print(counts_Asian)\n",
    "\n",
    "# Visualizar Graficamente a quantidade de cada informacao da Coluna Raça/Etnia_Asian\n",
    "plt.title('Contagem Valores Raça/Etnia_Asian Que tem Osteoporose')\n",
    "plt.xlabel('Value')\n",
    "plt.ylabel('Count')\n",
    "plt.show()\n",
    "\n",
    "print('############################################################')\n",
    "\n",
    "# contar o número de ocorrências de cada valor único na coluna 'Raça/Etnia_Caucasian'\n",
    "counts_Caucasian = data_Raça_Etnia['Raça/Etnia_Caucasian'].value_counts()\n",
    "counts_Caucasian.plot(kind='bar')\n",
    "\n",
    "# visualizar quantidade de cada informacoes na coluna Raça/Etnia_Caucasian\n",
    "print(counts_Caucasian)\n",
    "\n",
    "# Visualizar Graficamente a quantidade de cada informacao da Coluna Raça/Etnia_Caucasian\n",
    "plt.title('Contagem Valores Raça/Etnia_Caucasian Que tem Osteoporose')\n",
    "plt.xlabel('Value')\n",
    "plt.ylabel('Count')\n",
    "plt.show()"
   ]
  },
  {
   "cell_type": "markdown",
   "id": "5a8fb34c",
   "metadata": {},
   "source": [
    "Conforme podemos verificar acima :\n",
    "- African American tem total de casos de 681, sendo 344 diagnosticados com Osteoporose.\n",
    "- Asian tem total de casos de 631, sendo 314 casos diagnosticados com Osteoporose.\n",
    "- Caucasian tem total de casos de 646, sendo 321 casos diagnosticados com Osteoporose.\n",
    "\n",
    "De 979 casos de Osteoporose no Dataframe, casos de Raça Etnia:\n",
    "- African American tem 35,14% de casos de Osteoporose\n",
    "- Asian tem 32,07% de casos de Osteoporose\n",
    "- Caucasian tem 32,79% de casos de Osteoporose.\n",
    "\n",
    "Porém, verificando casos totais, a Raca Etnia:\n",
    "-  Asian tem 631 casos no Dataframe, sendo 314 casos diagnosticado com Osteoporose. Casos de Asian diagnosticados com osteoporose é de 49,76% perante a sua população total.\n",
    "  \n",
    "-  African American tem 681 casos no Dataframe que correspondem a 07,92% a mais que os casos de Raça/Etnia Asian, sendo 344 casos diagnosticados com Osteoporose.Casos de Caucasian diagnosticados com osteoporose é de 50,51% perante a sua população total.  \n",
    "\n",
    "\n",
    "-  Caucasian tem 646 casos no Dataframe que correspondem a 02,37% a mais que os casos de Raça/Etnia Asian, sendo 321 casos diagnosticados com Osteoporose. Casos de African American diagnosticados com osteoporose é de 49,69% perante a sua população total. \n",
    "\n",
    "\n",
    "Sendo assim, podemos concluir que a Raça/Etnia que tem mais casos de Osteoporose é African American\n"
   ]
  },
  {
   "cell_type": "markdown",
   "id": "0ae31f86",
   "metadata": {},
   "source": [
    "##### Qual Sexo da Raça/Etnia Asian tem mais casos de Osteoporose?"
   ]
  },
  {
   "cell_type": "code",
   "execution_count": null,
   "id": "6dbc4325",
   "metadata": {},
   "outputs": [],
   "source": [
    "# Filtrar a Mulheres Asiaticas\n",
    "df_novo_F_Total = df[((df['Raça/Etnia_Asian'] == 1) & (df['Genero_Female'] == 1))]\n",
    "# Contagem de numero de linhas\n",
    "num_rows = len(df_novo_F_Total)\n",
    "\n",
    "print('Numero de Mulheres Asiaticas na base de dados é:')\n",
    "print(num_rows)"
   ]
  },
  {
   "cell_type": "code",
   "execution_count": null,
   "id": "57d53617",
   "metadata": {},
   "outputs": [],
   "source": [
    "# Filtrar a Mulheres Asiaticas que tenham Osteoporose\n",
    "df_novo_F_Total_Osteoporose = df[((df['Raça/Etnia_Asian'] == 1) & (df['Osteoporose'] == 1)& (df['Genero_Female'] == 1))]\n",
    "# Contagem de numero de linhas\n",
    "num_rows = len(df_novo_F_Total_Osteoporose)\n",
    "\n",
    "print('Numero de Mulheres Asiaticas que tem Osteoporose na base de dados é:')\n",
    "print(num_rows)"
   ]
  },
  {
   "cell_type": "code",
   "execution_count": null,
   "id": "c8515659",
   "metadata": {},
   "outputs": [],
   "source": [
    "# Filtrar a Homens Asiaticas\n",
    "df_novo_M_Total = df[((df['Raça/Etnia_Asian'] == 1) & (df['Genero_Male'] == 1))]\n",
    "# Contagem de numero de linhas\n",
    "num_rows = len(df_novo_M_Total)\n",
    "\n",
    "print('Numero de Homens Asiaticos na base de dados é:')\n",
    "print(num_rows)"
   ]
  },
  {
   "cell_type": "code",
   "execution_count": null,
   "id": "36f518a7",
   "metadata": {},
   "outputs": [],
   "source": [
    "# Filtrar a Mulheres Asiaticas que tenham Osteoporose\n",
    "df_novo_M_Total_Osteoporose = df[((df['Raça/Etnia_Asian'] == 1) & (df['Osteoporose'] == 1)& (df['Genero_Male'] == 1))]\n",
    "# Contagem de numero de linhas\n",
    "num_rows = len(df_novo_M_Total_Osteoporose)\n",
    "\n",
    "print('Numero de Homens Asiaticos que tem Osteoporose na base de dados é:')\n",
    "print(num_rows)"
   ]
  },
  {
   "cell_type": "code",
   "execution_count": null,
   "id": "b04a0a89",
   "metadata": {},
   "outputs": [],
   "source": [
    "# criar uma figura com dois subplots\n",
    "fig, ax = plt.subplots(1, 2, figsize=(12, 6))\n",
    "\n",
    "# plota as contagens de valores para cada coluna\n",
    "# Definir qual dataframe utilizara, a cor e confeccao do grafico\n",
    "counts1 = df_novo_M_Total_Osteoporose['Osteoporose'].value_counts()\n",
    "counts1.plot(kind='bar', color='White', label='Não Osteoporose', ax=ax[0])\n",
    "counts1.plot(kind='bar', color='blue', label='Com Osteoporose', ax=ax[0])\n",
    "ax[0].set_title('Homens')\n",
    "ax[0].set_xlabel('Com Osteoporose')\n",
    "ax[0].set_ylabel('Count')\n",
    "ax[0].legend()\n",
    "print(f'Homens Asiaticos com {counts1}')\n",
    "\n",
    "# Definir qual dataframe utilizara, a cor e confeccao do grafico\n",
    "counts2 = df_novo_F_Total_Osteoporose['Osteoporose'].value_counts()\n",
    "counts2.plot(kind='bar', color='blue', label='Não Osteoporose', ax=ax[1])\n",
    "counts2.plot(kind='bar', color='pink', label='Com Osteoporose', ax=ax[1])\n",
    "ax[1].set_title('Mulheres')\n",
    "ax[1].set_xlabel('Com Osteoporose')\n",
    "ax[1].set_ylabel('Quantidade')\n",
    "ax[1].legend()\n",
    "print(f'Mulheres Asiaticas com {counts2}')\n",
    "\n",
    "# Titulo do grafico\n",
    "fig.suptitle('Contagem Valores de Osteoporose por Genero Raça Asian')\n",
    "\n",
    "# Mostrar o plot\n",
    "plt.show()"
   ]
  },
  {
   "cell_type": "markdown",
   "id": "f6f6b523",
   "metadata": {},
   "source": [
    "Sendo assim, conforme podemos verificar casos das Pessoas de Raça Asiatica:\n",
    "  - Mulheres Asiaticas: Na Base de Dados em questão há total de casos de Mulheres Asiáticas 316 casos sendo 149 casos onde foram diagnosticadas com Osteoporose. Verificando o total de casos com os casos diagnosticados com osteoporose em Mulheres Asiaticas a porcentagem é de 47,16%.\n",
    "  - Homens Asiaticos: Na Base de Dados em questão há total de casos de Homens Asiáticos 315 casos sendo 165 casos onde foram diagnosticados com Osteoporose. 52,39%. Verificando o total de casos com os casos diagnosticados com osteoporose em Homens Asiaticas a porcentagem é de 52,39%\n",
    "  \n",
    "Nos casos de Asiaticos, tem mais casos de Homem com Osteoporose a Mulher asiatica com Osteoporose."
   ]
  },
  {
   "cell_type": "markdown",
   "id": "21eb02ab",
   "metadata": {},
   "source": [
    "##### Qual Sexo da Raça/Etnia African American tem mais casos de Osteoporose?"
   ]
  },
  {
   "cell_type": "code",
   "execution_count": null,
   "id": "e97e4fa1",
   "metadata": {},
   "outputs": [],
   "source": [
    "# Filtrar a Mulheres African American\n",
    "df_American_F_Total = df[((df['Raça/Etnia_African American'] == 1) & (df['Genero_Female'] == 1))]\n",
    "# Contagem de numero de linhas\n",
    "num_rows = len(df_American_F_Total)\n",
    "\n",
    "print('Numero de Mulheres African American na base de dados é:')\n",
    "print(num_rows)"
   ]
  },
  {
   "cell_type": "code",
   "execution_count": null,
   "id": "1a82eed5",
   "metadata": {},
   "outputs": [],
   "source": [
    "# Filtrar a Mulheres African American que tenham Osteoporose\n",
    "df_American_F_Total_Osteoporose = df[((df['Raça/Etnia_African American'] == 1) & (df['Osteoporose'] == 1)& (df['Genero_Female'] == 1))]\n",
    "# Contagem de numero de linhas\n",
    "num_rows = len(df_American_F_Total_Osteoporose)\n",
    "\n",
    "print('Numero de Mulheres African American que tem Osteoporose na base de dados é:')\n",
    "print(num_rows)"
   ]
  },
  {
   "cell_type": "code",
   "execution_count": null,
   "id": "c1c09044",
   "metadata": {},
   "outputs": [],
   "source": [
    "# Filtrar Homens African American que tenham na Base de Dados\n",
    "df_American_M_Total = df[((df['Raça/Etnia_African American'] == 1) & (df['Genero_Male'] == 1))]\n",
    "# Contagem de numero de linhas\n",
    "num_rows = len(df_American_M_Total)\n",
    "\n",
    "print('Numero de Homens African American na base de dados é:')\n",
    "print(num_rows)"
   ]
  },
  {
   "cell_type": "code",
   "execution_count": null,
   "id": "63935c7d",
   "metadata": {},
   "outputs": [],
   "source": [
    "# Filtrar Homens African American que tenham Osteoporose\n",
    "df_American_M_Total_Osteoporose = df[((df['Raça/Etnia_African American'] == 1) & (df['Osteoporose'] == 1)& (df['Genero_Male'] == 1))]\n",
    "# Contagem de numero de linhas\n",
    "num_rows = len(df_American_M_Total_Osteoporose)\n",
    "\n",
    "print('Numero de Homens African American que tem Osteoporose na base de dados é:')\n",
    "print(num_rows)"
   ]
  },
  {
   "cell_type": "code",
   "execution_count": null,
   "id": "56bcd418",
   "metadata": {},
   "outputs": [],
   "source": [
    "# criar uma figura com dois subplots\n",
    "fig, ax = plt.subplots(1, 2, figsize=(12, 6))\n",
    "\n",
    "# plota as contagens de valores para cada coluna\n",
    "# Definir qual dataframe utilizara, a cor e confeccao do grafico\n",
    "counts1 = df_American_M_Total_Osteoporose['Osteoporose'].value_counts()\n",
    "counts1.plot(kind='bar', color='White', label='Não Osteoporose', ax=ax[0])\n",
    "counts1.plot(kind='bar', color='blue', label='Com Osteoporose', ax=ax[0])\n",
    "ax[0].set_title('Homens')\n",
    "ax[0].set_xlabel('Com Osteoporose')\n",
    "ax[0].set_ylabel('Count')\n",
    "ax[0].legend()\n",
    "print(f'Homens American African com {counts1}')\n",
    "\n",
    "# Definir qual dataframe utilizara, a cor e confeccao do grafico\n",
    "counts2 = df_American_F_Total_Osteoporose['Osteoporose'].value_counts()\n",
    "counts2.plot(kind='bar', color='blue', label='Não Osteoporose', ax=ax[1])\n",
    "counts2.plot(kind='bar', color='pink', label='Com Osteoporose', ax=ax[1])\n",
    "ax[1].set_title('Mulheres')\n",
    "ax[1].set_xlabel('Com Osteoporose')\n",
    "ax[1].set_ylabel('Quantidade')\n",
    "ax[1].legend()\n",
    "print(f'Mulheres American African com {counts2}')\n",
    "\n",
    "# Titulo do grafico\n",
    "fig.suptitle('Contagem Valores de Osteoporose por Genero Raça American African')\n",
    "\n",
    "# Mostrar o plot\n",
    "plt.show()"
   ]
  },
  {
   "cell_type": "markdown",
   "id": "1ec79460",
   "metadata": {},
   "source": [
    "Sendo assim, conforme podemos verificar casos das Pessoas de Raça American African:\n",
    "  - Mulheres American African: Na Base de Dados em questão há total de casos de Mulheres American African 340 casos sendo 170 casos onde foram diagnosticadas com Osteoporose. Verificando o total de casos com os casos diagnosticados com osteoporose em Mulheres American African a porcentagem é de 50% das mulheres American African que constam na Base de Dados foram dignosticadas com Osteoporose.\n",
    "  \n",
    "  - Homens American African: Na Base de Dados em questão há total de casos de Homens American African 341 casos sendo 174 casos onde foram diagnosticados com Osteoporose. Verificando o total de casos com os casos diagnosticados com osteoporose em Homens American African a porcentagem é de 51,03% dos Homens American African que constam na base de Dados foram diagnosticados com Osteoporose.\n",
    "  \n",
    "Nos casos de American African, tem mais casos de Homens com Osteoporose a Mulher American African com Osteoporose."
   ]
  },
  {
   "cell_type": "markdown",
   "id": "1446390e",
   "metadata": {},
   "source": [
    "##### Qual Sexo da Raça/Etnia Caucasian tem mais casos de Osteoporose?"
   ]
  },
  {
   "cell_type": "code",
   "execution_count": null,
   "id": "d8ef6bf6",
   "metadata": {},
   "outputs": [],
   "source": [
    "# Filtrar a Mulheres Caucasian\n",
    "df_Caucasian_F_Total = df[((df['Raça/Etnia_Caucasian'] == 1) & (df['Genero_Female'] == 1))]\n",
    "# Contagem de numero de linhas\n",
    "num_rows = len(df_Caucasian_F_Total)\n",
    "\n",
    "print('Numero de Mulheres Caucasian na base de dados é:')\n",
    "print(num_rows)"
   ]
  },
  {
   "cell_type": "code",
   "execution_count": null,
   "id": "e7bd6a93",
   "metadata": {},
   "outputs": [],
   "source": [
    "# Filtrar a Mulheres African American que tenham Osteoporose\n",
    "df_Caucasian_F_Total_Osteoporose = df[((df['Raça/Etnia_Caucasian'] == 1) & (df['Osteoporose'] == 1)& (df['Genero_Female'] == 1))]\n",
    "# Contagem de numero de linhas\n",
    "num_rows = len(df_Caucasian_F_Total_Osteoporose)\n",
    "\n",
    "print('Numero de Mulheres Caucasian que tem Osteoporose na base de dados é:')\n",
    "print(num_rows)"
   ]
  },
  {
   "cell_type": "code",
   "execution_count": null,
   "id": "af945681",
   "metadata": {},
   "outputs": [],
   "source": [
    "# Filtrar Homens African American que tenham na Base de Dados\n",
    "df_Caucasian_M_Total = df[((df['Raça/Etnia_Caucasian'] == 1) & (df['Genero_Male'] == 1))]\n",
    "# Contagem de numero de linhas\n",
    "num_rows = len(df_Caucasian_M_Total)\n",
    "\n",
    "print('Numero de Homens Caucasian na base de dados é:')\n",
    "print(num_rows)"
   ]
  },
  {
   "cell_type": "code",
   "execution_count": null,
   "id": "c69ec988",
   "metadata": {},
   "outputs": [],
   "source": [
    "# Filtrar Homens African American que tenham Osteoporose\n",
    "df_Caucasian_M_Total_Osteoporose = df[((df['Raça/Etnia_Caucasian'] == 1) & (df['Osteoporose'] == 1)& (df['Genero_Male'] == 1))]\n",
    "# Contagem de numero de linhas\n",
    "num_rows = len(df_Caucasian_M_Total_Osteoporose)\n",
    "\n",
    "print('Numero de Homens Caucasian que tem Osteoporose na base de dados é:')\n",
    "print(num_rows)"
   ]
  },
  {
   "cell_type": "code",
   "execution_count": null,
   "id": "3717dd10",
   "metadata": {},
   "outputs": [],
   "source": [
    "# criar uma figura com dois subplots\n",
    "fig, ax = plt.subplots(1, 2, figsize=(12, 6))\n",
    "\n",
    "# plota as contagens de valores para cada coluna\n",
    "# Definir qual dataframe utilizara, a cor e confeccao do grafico\n",
    "counts1 = df_Caucasian_M_Total_Osteoporose['Osteoporose'].value_counts()\n",
    "counts1.plot(kind='bar', color='White', label='Não Osteoporose', ax=ax[0])\n",
    "counts1.plot(kind='bar', color='blue', label='Com Osteoporose', ax=ax[0])\n",
    "ax[0].set_title('Homens')\n",
    "ax[0].set_xlabel('Com Osteoporose')\n",
    "ax[0].set_ylabel('Count')\n",
    "ax[0].legend()\n",
    "print(f'Homens Caucasian com {counts1}')\n",
    "\n",
    "# Definir qual dataframe utilizara, a cor e confeccao do grafico\n",
    "counts2 = df_Caucasian_F_Total_Osteoporose['Osteoporose'].value_counts()\n",
    "counts2.plot(kind='bar', color='White', label='Não Osteoporose', ax=ax[1])\n",
    "counts2.plot(kind='bar', color='pink', label='Com Osteoporose', ax=ax[1])\n",
    "ax[1].set_title('Mulheres')\n",
    "ax[1].set_xlabel('Com Osteoporose')\n",
    "ax[1].set_ylabel('Quantidade')\n",
    "ax[1].legend()\n",
    "print(f'Mulheres Caucasian com {counts2}')\n",
    "\n",
    "# Titulo do grafico\n",
    "fig.suptitle('Contagem Valores de Osteoporose por Genero Raça American African')\n",
    "\n",
    "# Mostrar o plot\n",
    "plt.show()"
   ]
  },
  {
   "cell_type": "markdown",
   "id": "46a6344a",
   "metadata": {},
   "source": [
    "Sendo assim, conforme podemos verificar casos das Pessoas de Raça Caucasian:\n",
    "  - Mulheres Caucasian: Na Base de Dados em questão há total de casos de Mulheres Caucasian 310 casos sendo 158 casos onde foram diagnosticadas com Osteoporose. Verificando o total de casos com os casos diagnosticados com osteoporose em Mulheres Caucasian a porcentagem é de 50,97% das mulheres Caucasian que constam na Base de Dados foram dignosticadas com Osteoporose.\n",
    "  \n",
    "  - Homens Caucasian: Na Base de Dados em questão há total de casos de Homens American African 336 casos sendo 163 casos onde foram diagnosticados com Osteoporose. Verificando o total de casos com os casos diagnosticados com osteoporose em Homens Caucasian a porcentagem é de 48,51% dos Homens Caucasian que constam na base de Dados foram diagnosticados com Osteoporose.\n",
    "  \n",
    "Nos casos de Caucasian, tem mais casos de Mulheres com Osteoporose a Homens Caucasian com Osteoporose."
   ]
  },
  {
   "cell_type": "markdown",
   "id": "366863eb",
   "metadata": {},
   "source": [
    "O conjunto de dados oferece informações abrangentes sobre os fatores de saúde que influenciam o desenvolvimento da osteoporose, incluindo detalhes demográficos, escolhas de estilo de vida, histórico médico e indicadores de saúde óssea. O objetivo é facilitar a pesquisa na previsão da osteoporose, permitindo que modelos de aprendizado de máquina identifiquem indivíduos em risco. A análise de fatores como idade, sexo, alterações hormonais e hábitos de vida pode ajudar a melhorar o manejo da osteoporose e as estratégias de prevenção."
   ]
  },
  {
   "cell_type": "markdown",
   "id": "3f37a5d2",
   "metadata": {},
   "source": [
    "- Pode-se dizer que mudanças hormonais tenham relação direta com a incidência de osteoporose em pacientes?\n",
    "- Quais são os fatores mais relevantes para a determinação de osteoporose? isso se aplica em todas as etnias?\n",
    "- Qual o perfil médio dos pacientes com osteoporose?\n",
    "- Qual a idade mais afetada?\n",
    "- Tem uma faixa etária mais atingida nos pacientes?\n",
    "- O Historico familiar é algum fator a ser levado em conta?"
   ]
  },
  {
   "cell_type": "markdown",
   "id": "28c5cebc",
   "metadata": {},
   "source": [
    "### Preparação Dos Dados"
   ]
  },
  {
   "cell_type": "code",
   "execution_count": null,
   "id": "dcdfa24b",
   "metadata": {},
   "outputs": [],
   "source": [
    "pip install shapash[report]"
   ]
  },
  {
   "cell_type": "code",
   "execution_count": null,
   "id": "fede3463",
   "metadata": {},
   "outputs": [],
   "source": [
    "# bibliotecas\n",
    "import pandas as pd\n",
    "import numpy as np\n",
    "\n",
    "# Dividir os dados\n",
    "from sklearn.model_selection import train_test_split\n",
    "\n",
    "# Métricas de desempenho\n",
    "import sklearn.metrics as metrics\n",
    "from sklearn.metrics import roc_auc_score\n",
    "from sklearn.metrics import (classification_report,\n",
    "                            confusion_matrix,\n",
    "                            recall_score,\n",
    "                            accuracy_score,\n",
    "                            precision_score,\n",
    "                            f1_score)\n",
    "\n",
    "# Modelo Arvore de Decisão (decision Tree) e Floresta Aleatoria (Random Forest) \n",
    "from sklearn.tree import DecisionTreeClassifier\n",
    "from sklearn.ensemble import RandomForestClassifier\n",
    "\n",
    "from shapash import SmartExplainer\n",
    "from sklearn.ensemble import RandomForestClassifier\n",
    "\n"
   ]
  },
  {
   "cell_type": "code",
   "execution_count": null,
   "id": "a629977f",
   "metadata": {},
   "outputs": [],
   "source": [
    "# Verificar a distribuicão da variavel alvo 'Osteoporose'\n",
    "df['Osteoporose'].value_counts(True)"
   ]
  },
  {
   "cell_type": "code",
   "execution_count": null,
   "id": "53162672",
   "metadata": {},
   "outputs": [],
   "source": [
    "# Separa as variáveis independentes das dependentes\n",
    "X = df.drop('Osteoporose', axis=1)\n",
    "Y = df['Osteoporose']\n",
    "\n",
    "# Cria variáveis fictícias\n",
    "X = pd.get_dummies(X, drop_first=True)"
   ]
  },
  {
   "cell_type": "code",
   "execution_count": null,
   "id": "c282a64a",
   "metadata": {},
   "outputs": [],
   "source": [
    "# Divide os dados em conjunto de treinamento, validação e teste\n",
    "\n",
    "# Divide os dados em duas partes: Treinamento e Temporário\n",
    "X_train, X_temp, y_train, y_temp = train_test_split(X, Y, test_size=0.5, random_state=42, stratify=Y)\n",
    "\n",
    "# Divide o conjunto temporário em validação e teste\n",
    "X_val, X_test, y_val, y_test = train_test_split(X_temp, y_temp, test_size=0.4, random_state=42, stratify=y_temp)\n",
    "\n",
    "print(X_train.shape, X_val.shape, X_test.shape)"
   ]
  },
  {
   "cell_type": "code",
   "execution_count": null,
   "id": "74ff78c4",
   "metadata": {},
   "outputs": [],
   "source": [
    "# Verificando o equilíbrio da classe para dados completos, conjunto de treinamento, conjunto de validação e conjunto de teste\n",
    "\n",
    "print(\"Razão do valor alvo em y\")\n",
    "print(Y.value_counts(1))\n",
    "print(\"#\" * 40)\n",
    "print(\"Razão do valor alvo em y_train\")\n",
    "print(y_train.value_counts(1))\n",
    "print(\"#\" * 40)\n",
    "print(\"Razão do valor alvo em y_val\")\n",
    "print(y_val.value_counts(1))\n",
    "print(\"#\" * 40)\n",
    "print(\"Razão do valor alvo em y_test\")\n",
    "print(y_test.value_counts(1))\n",
    "print(\"#\" * 40)"
   ]
  },
  {
   "cell_type": "markdown",
   "id": "19007775",
   "metadata": {},
   "source": [
    "### Construção de Modelos de Previsão"
   ]
  },
  {
   "cell_type": "markdown",
   "id": "af826390",
   "metadata": {},
   "source": [
    "- Análise Potencial: Modelagem Preditiva: Desenvolva modelos de aprendizado de máquina para prever a probabilidade de osteoporose com base nos recursos fornecidos. Esta análise é crucial para identificar indivíduos em risco de osteoporose, possibilitando intervenções precoces e estratégias de prevenção."
   ]
  },
  {
   "cell_type": "markdown",
   "id": "d536a0db",
   "metadata": {},
   "source": [
    "#### Arvore de Decisao Classificadora"
   ]
  },
  {
   "cell_type": "markdown",
   "id": "009db677",
   "metadata": {},
   "source": []
  },
  {
   "cell_type": "code",
   "execution_count": null,
   "id": "d6ca8f20",
   "metadata": {},
   "outputs": [],
   "source": [
    "# Construcao da árvore de decisão\n",
    "dtree = DecisionTreeClassifier(random_state=30, max_depth=5)\n",
    "\n",
    "# Treine a árvore de decisão\n",
    "dtree.fit(X_train, y_train)"
   ]
  },
  {
   "cell_type": "code",
   "execution_count": null,
   "id": "c42d5f94",
   "metadata": {},
   "outputs": [],
   "source": [
    "print(pd.DataFrame(dtree.feature_importances_, columns=['imp'], index=X_train.columns))"
   ]
  },
  {
   "cell_type": "markdown",
   "id": "72b76ba6",
   "metadata": {},
   "source": [
    "##### Desempenho do modelo construido com Arvore de Decisao (Decision Tree)"
   ]
  },
  {
   "cell_type": "code",
   "execution_count": null,
   "id": "5ece6c9e",
   "metadata": {},
   "outputs": [],
   "source": [
    "# Prever o alvo para os conjuntos de treinamento e validação\n",
    "pred_train = dtree.predict(X_train)\n",
    "pred_val = dtree.predict(X_val)"
   ]
  },
  {
   "cell_type": "code",
   "execution_count": null,
   "id": "f96b3ead",
   "metadata": {},
   "outputs": [],
   "source": [
    "# Accuracy: mede a proporção de previsões corretas em relação ao total de previsões\n",
    "print(accuracy_score(y_train, pred_train))\n",
    "print(accuracy_score(y_val, pred_val))"
   ]
  },
  {
   "cell_type": "code",
   "execution_count": null,
   "id": "3ede5bb3",
   "metadata": {},
   "outputs": [],
   "source": [
    "#precision: mede a proporção de previsões positivas verdadeiras entre todas as previsões positivas.\n",
    "print(precision_score(y_train, pred_train))\n",
    "print(precision_score(y_val, pred_val))"
   ]
  },
  {
   "cell_type": "code",
   "execution_count": null,
   "id": "7f26322a",
   "metadata": {},
   "outputs": [],
   "source": [
    "#Recall (Sensibilidade): Mede a proporção de previsões positivas verdadeiras de todas as instâncias positivas reais.\n",
    "print(recall_score(y_train, pred_train))\n",
    "print(recall_score(y_val, pred_val))"
   ]
  },
  {
   "cell_type": "code",
   "execution_count": null,
   "id": "a8860fed",
   "metadata": {},
   "outputs": [],
   "source": [
    "# Pontuação F1: É a média harmônica de precisão e recuperação.\n",
    "print(f1_score(y_train, pred_train))\n",
    "print(f1_score(y_val, pred_val))"
   ]
  },
  {
   "cell_type": "code",
   "execution_count": null,
   "id": "6ccf0dbe",
   "metadata": {},
   "outputs": [],
   "source": [
    "# Pontuação ROC AUC: Mede a área sob a curva característica de operação do receptor (ROC).\n",
    "print(roc_auc_score(y_train, pred_train, multi_class='ovr'))\n",
    "print(roc_auc_score(y_val, pred_val, multi_class='ovr'))"
   ]
  },
  {
   "cell_type": "markdown",
   "id": "ed4e3c87",
   "metadata": {},
   "source": [
    "#### Floresta Aleatoria (Random Forest)"
   ]
  },
  {
   "cell_type": "code",
   "execution_count": null,
   "id": "e589409e",
   "metadata": {},
   "outputs": [],
   "source": [
    "# Criar um objeto RandomForestClassifier\n",
    "RFC = RandomForestClassifier(random_state=42)\n",
    "\n",
    "# Ajustar o modelo aos dados de treinamento\n",
    "RFC.fit(X_train, y_train)"
   ]
  },
  {
   "cell_type": "code",
   "execution_count": null,
   "id": "871865a3",
   "metadata": {},
   "outputs": [],
   "source": [
    "print(pd.DataFrame(RFC.feature_importances_, columns=['imp'], index=X_train.columns))"
   ]
  },
  {
   "cell_type": "markdown",
   "id": "0f45cc99",
   "metadata": {},
   "source": [
    "O SmartExplainerfrom shapashé uma ferramenta poderosa para explicar modelos de aprendizado de máquina. Fornece uma maneira simples e intuitiva de entender como seu modelo está fazendo previsões.\n",
    "\n",
    "https://github.com/MAIF/shapash?tab=readme-ov-file"
   ]
  },
  {
   "cell_type": "code",
   "execution_count": null,
   "id": "43905722",
   "metadata": {},
   "outputs": [],
   "source": [
    "xpl = SmartExplainer(model=RFC)\n",
    "xpl.compile(X_train)\n",
    "app = xpl.run_app()"
   ]
  },
  {
   "cell_type": "markdown",
   "id": "62091bbf",
   "metadata": {},
   "source": [
    "##### Desempenho do Modelo Random Forest Construido"
   ]
  },
  {
   "cell_type": "code",
   "execution_count": null,
   "id": "a663cf16",
   "metadata": {},
   "outputs": [],
   "source": [
    "# Prever o alvo para os conjuntos de treinamento e validação\n",
    "pred_RFC_train = RFC.predict(X_train)\n",
    "pred_RFC_val = RFC.predict(X_val)"
   ]
  },
  {
   "cell_type": "code",
   "execution_count": null,
   "id": "31cc6fff",
   "metadata": {},
   "outputs": [],
   "source": [
    "# Accuracy: mede a proporção de previsões corretas em relação ao total de previsões\n",
    "print(accuracy_score(y_train, pred_RFC_train))\n",
    "print(accuracy_score(y_val, pred_RFC_val))"
   ]
  },
  {
   "cell_type": "code",
   "execution_count": null,
   "id": "ad246ddb",
   "metadata": {},
   "outputs": [],
   "source": [
    "#precision: mede a proporção de previsões positivas verdadeiras entre todas as previsões positivas.\n",
    "print(precision_score(y_train, pred_RFC_train))\n",
    "print(precision_score(y_val, pred_RFC_val))"
   ]
  },
  {
   "cell_type": "code",
   "execution_count": null,
   "id": "fb263ff3",
   "metadata": {},
   "outputs": [],
   "source": [
    "#Recall (Sensibilidade): Mede a proporção de previsões positivas verdadeiras de todas as instâncias positivas reais.\n",
    "print(recall_score(y_train, pred_RFC_train))\n",
    "print(recall_score(y_val, pred_RFC_val))"
   ]
  },
  {
   "cell_type": "code",
   "execution_count": null,
   "id": "0b8d430b",
   "metadata": {},
   "outputs": [],
   "source": [
    "# Pontuação F1: É a média harmônica de precisão e recuperação.\n",
    "print(f1_score(y_train, pred_RFC_train))\n",
    "print(f1_score(y_val, pred_RFC_val))"
   ]
  },
  {
   "cell_type": "code",
   "execution_count": null,
   "id": "cbe20dc2",
   "metadata": {},
   "outputs": [],
   "source": [
    "# Pontuação ROC AUC: Mede a área sob a curva característica de operação do receptor (ROC).\n",
    "print(roc_auc_score(y_train, pred_RFC_train, multi_class='ovr'))\n",
    "print(roc_auc_score(y_val, pred_RFC_val, multi_class='ovr'))"
   ]
  },
  {
   "cell_type": "code",
   "execution_count": null,
   "id": "7a85f159",
   "metadata": {},
   "outputs": [],
   "source": [
    "# Matriz de confusão para dados de validação\n",
    "cm = confusion_matrix(y_val, pred_RFC_val)\n",
    "\n",
    "plt.figure(figsize=(7, 5))\n",
    "sns.heatmap(cm, annot=True, fmt='g')\n",
    "plt.xlabel('Predicted Values')\n",
    "plt.ylabel('Actual Values')\n",
    "plt.show()"
   ]
  }
 ],
 "metadata": {
  "kernelspec": {
   "display_name": "Python 3 (ipykernel)",
   "language": "python",
   "name": "python3"
  },
  "language_info": {
   "codemirror_mode": {
    "name": "ipython",
    "version": 3
   },
   "file_extension": ".py",
   "mimetype": "text/x-python",
   "name": "python",
   "nbconvert_exporter": "python",
   "pygments_lexer": "ipython3",
   "version": "3.11.1"
  }
 },
 "nbformat": 4,
 "nbformat_minor": 5
}
